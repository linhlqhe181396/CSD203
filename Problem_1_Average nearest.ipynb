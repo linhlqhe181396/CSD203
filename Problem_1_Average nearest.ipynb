{
 "cells": [
  {
   "cell_type": "code",
   "execution_count": 1,
   "id": "64225a44",
   "metadata": {},
   "outputs": [
    {
     "name": "stdout",
     "output_type": "stream",
     "text": [
      "Enter values of the array separated by spaces: 1 2 3 4 5 6 7 8 9 10\n",
      "Position of the element nearest to the average: 5\n"
     ]
    }
   ],
   "source": [
    "arr = [int(x) for x in input(\"Enter values of the array separated by spaces: \").split()]\n",
    "if not arr:\n",
    "    print(\"Array is empty.\")\n",
    "else:\n",
    "    avg = sum(arr) / len(arr)\n",
    "    nearest_element = min(arr, key=lambda x: abs(x - avg))\n",
    "    nearest_position = arr.index(nearest_element) + 1  \n",
    "    print(f\"Position of the element nearest to the average: {nearest_position}\")\n"
   ]
  },
  {
   "cell_type": "code",
   "execution_count": null,
   "id": "f012c446",
   "metadata": {},
   "outputs": [],
   "source": []
  },
  {
   "cell_type": "markdown",
   "id": "0a3c9061",
   "metadata": {},
   "source": [
    "## "
   ]
  },
  {
   "cell_type": "code",
   "execution_count": null,
   "id": "bab1015e",
   "metadata": {},
   "outputs": [],
   "source": []
  }
 ],
 "metadata": {
  "kernelspec": {
   "display_name": "Python 3 (ipykernel)",
   "language": "python",
   "name": "python3"
  },
  "language_info": {
   "codemirror_mode": {
    "name": "ipython",
    "version": 3
   },
   "file_extension": ".py",
   "mimetype": "text/x-python",
   "name": "python",
   "nbconvert_exporter": "python",
   "pygments_lexer": "ipython3",
   "version": "3.11.5"
  }
 },
 "nbformat": 4,
 "nbformat_minor": 5
}
