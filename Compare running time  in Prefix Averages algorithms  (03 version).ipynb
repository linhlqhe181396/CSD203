{
 "cells": [
  {
   "cell_type": "code",
   "execution_count": 3,
   "id": "07c4b03a",
   "metadata": {},
   "outputs": [
    {
     "name": "stdout",
     "output_type": "stream",
     "text": [
      "Time for version 1: 2.8683677000008174\n",
      "Time for version 2: 0.011309599998639897\n",
      "Time for recursive version: 0.5440591000005952\n"
     ]
    }
   ],
   "source": [
    "import timeit\n",
    "\n",
    "def prefix_average_v1(s):\n",
    "    n = len(s)\n",
    "    A = [0] * n\n",
    "    for j in range(n):\n",
    "        total = 0\n",
    "        for i in range(j + 1):\n",
    "            total += s[i]\n",
    "        A[j] = total / (j + 1)\n",
    "    return A\n",
    "\n",
    "def prefix_average_v2(s):\n",
    "    n = len(s)\n",
    "    A = [0] * n\n",
    "    total = 0\n",
    "    for j in range(n):\n",
    "        total += s[j]\n",
    "        A[j] = total / (j + 1)\n",
    "    return A\n",
    "\n",
    "def prefix_average_recursive(s, n=None):\n",
    "    if n is None:\n",
    "        n = len(s)\n",
    "    if n == 0:\n",
    "        return []\n",
    "    else:\n",
    "        prefix_sum = sum(s[:n])\n",
    "        prefix_avg = prefix_sum / n\n",
    "        return prefix_average_recursive(s, n - 1) + [prefix_avg]\n",
    "\n",
    "input_list = list(range(1000)) \n",
    "\n",
    "time_v1 = timeit.timeit(lambda: prefix_average_v1(input_list), number=100)\n",
    "\n",
    "\n",
    "time_v2 = timeit.timeit(lambda: prefix_average_v2(input_list), number=100)\n",
    "\n",
    "time_recursive = timeit.timeit(lambda: prefix_average_recursive(input_list), number=100)\n",
    "\n",
    "\n",
    "print(\"Time for version 1:\", time_v1)\n",
    "print(\"Time for version 2:\", time_v2)\n",
    "print(\"Time for recursive version:\", time_recursive)"
   ]
  },
  {
   "cell_type": "code",
   "execution_count": null,
   "id": "47673345",
   "metadata": {},
   "outputs": [],
   "source": []
  },
  {
   "cell_type": "code",
   "execution_count": null,
   "id": "accfaae2",
   "metadata": {},
   "outputs": [],
   "source": []
  }
 ],
 "metadata": {
  "kernelspec": {
   "display_name": "Python 3 (ipykernel)",
   "language": "python",
   "name": "python3"
  },
  "language_info": {
   "codemirror_mode": {
    "name": "ipython",
    "version": 3
   },
   "file_extension": ".py",
   "mimetype": "text/x-python",
   "name": "python",
   "nbconvert_exporter": "python",
   "pygments_lexer": "ipython3",
   "version": "3.11.5"
  }
 },
 "nbformat": 4,
 "nbformat_minor": 5
}
