{
 "cells": [
  {
   "cell_type": "code",
   "execution_count": 1,
   "id": "50ed0997",
   "metadata": {},
   "outputs": [
    {
     "name": "stdout",
     "output_type": "stream",
     "text": [
      "type your score in 10 (type \"exit\" to end): 3\n",
      "('your number score is:', 'F', 'your score in letter is: ', 0.0)\n",
      "type your score in 10 (type \"exit\" to end): 4\n",
      "('your number score is:', 'D', 'your score in letter is: ', 1.0)\n",
      "type your score in 10 (type \"exit\" to end): 5\n",
      "('your number score is:', 'D+', 'your score in letter is: ', 1.5)\n",
      "type your score in 10 (type \"exit\" to end): 6\n",
      "('your number score is:', 'C', 'your score in letter is: ', 2.0)\n",
      "type your score in 10 (type \"exit\" to end): 7\n",
      "('your number score is:', 'B', 'your score in letter is: ', 3.0)\n",
      "type your score in 10 (type \"exit\" to end): 7\n",
      "('your number score is:', 'B', 'your score in letter is: ', 3.0)\n",
      "type your score in 10 (type \"exit\" to end): 9\n",
      "your number score is: A your score in letter is:  4.0\n",
      "type your score in 10 (type \"exit\" to end): 10\n",
      "your number score is: A your score in letter is:  4.0\n",
      "type your score in 10 (type \"exit\" to end): 11\n",
      "wrong number or syntax\n",
      "type your score in 10 (type \"exit\" to end): exit\n",
      "Exiting the program.\n"
     ]
    }
   ],
   "source": [
    "score_1 = [8.5, 8.0, 7.0, 6.5, 5.5, 5.0, 4]\n",
    "score_2 = ['A', 'B+', 'B', 'C+', 'C', 'D+', 'D', 'F']\n",
    "score_3 = [4.0, 3.5, 3.0, 2.5, 2.0, 1.5, 1.0, 0.0]\n",
    "\n",
    "def transfer_score(a):\n",
    "    return 'your number score is:', score_2[score_1.index(a) + 1], 'your score in letter is: ', score_3[score_1.index(a) + 1]\n",
    "\n",
    "while True:\n",
    "    score1 = input('type your score in 10 (type \"exit\" to end): ')\n",
    "    \n",
    "    if score1.lower() == 'exit':\n",
    "        print('Exiting the program.')\n",
    "        break\n",
    "\n",
    "    try:\n",
    "        score = float(score1)\n",
    "    except ValueError:\n",
    "        print('Invalid input. Please enter a valid number.')\n",
    "        continue\n",
    "\n",
    "    if score < 4:\n",
    "        print(transfer_score(4))\n",
    "    elif 8.5 <= score <= 10:\n",
    "        print('your number score is:', score_2[score_1.index(8.5)], 'your score in letter is: ', score_3[score_1.index(8.5)])\n",
    "    elif 4 <= score < 8.5:\n",
    "        for i in score_1:\n",
    "            if score >= i and score < score_1[score_1.index(i) - 1]:\n",
    "                print(transfer_score(score_1[score_1.index(i) - 1]))\n",
    "                break\n",
    "    else:\n",
    "        print('wrong number or syntax')\n"
   ]
  },
  {
   "cell_type": "code",
   "execution_count": null,
   "id": "fa483666",
   "metadata": {},
   "outputs": [],
   "source": []
  }
 ],
 "metadata": {
  "kernelspec": {
   "display_name": "Python 3 (ipykernel)",
   "language": "python",
   "name": "python3"
  },
  "language_info": {
   "codemirror_mode": {
    "name": "ipython",
    "version": 3
   },
   "file_extension": ".py",
   "mimetype": "text/x-python",
   "name": "python",
   "nbconvert_exporter": "python",
   "pygments_lexer": "ipython3",
   "version": "3.11.5"
  }
 },
 "nbformat": 4,
 "nbformat_minor": 5
}
