{
 "cells": [
  {
   "cell_type": "code",
   "execution_count": 2,
   "id": "52b2dcd8",
   "metadata": {},
   "outputs": [
    {
     "name": "stdout",
     "output_type": "stream",
     "text": [
      "type your list number, each sperated by a space: 1 22 3 4 4 55 6 7 44\n",
      "{1, 3, 4, 6, 7, 44, 22, 55}\n"
     ]
    }
   ],
   "source": [
    "lstnumber= str(input('type your list number, each sperated by a space: '))\n",
    "number = lstnumber.split(' ')\n",
    "number2 = [int(element)for element in number]\n",
    "number3 = set(number2)\n",
    "\n",
    "print(number3)"
   ]
  },
  {
   "cell_type": "code",
   "execution_count": null,
   "id": "145efed6",
   "metadata": {},
   "outputs": [],
   "source": []
  }
 ],
 "metadata": {
  "kernelspec": {
   "display_name": "Python 3 (ipykernel)",
   "language": "python",
   "name": "python3"
  },
  "language_info": {
   "codemirror_mode": {
    "name": "ipython",
    "version": 3
   },
   "file_extension": ".py",
   "mimetype": "text/x-python",
   "name": "python",
   "nbconvert_exporter": "python",
   "pygments_lexer": "ipython3",
   "version": "3.11.5"
  }
 },
 "nbformat": 4,
 "nbformat_minor": 5
}
