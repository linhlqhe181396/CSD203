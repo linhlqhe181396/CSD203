{
 "cells": [
  {
   "cell_type": "code",
   "execution_count": 17,
   "id": "64225a44",
   "metadata": {},
   "outputs": [
    {
     "name": "stdout",
     "output_type": "stream",
     "text": [
      "Enter your series of numbers, each number separated by a space: 1 2 3 4 5 6 7 8 98 4\n",
      "average nearest number is: 8\n"
     ]
    }
   ],
   "source": [
    "def avg_nearest():\n",
    "    a = str(input(\"Enter your series of numbers, each number separated by a space: \"))\n",
    "    b = a.split(' ')\n",
    "    number = [int(element) for element in b]\n",
    "    avg = sum(number) / len(number)\n",
    "    subtraction = []\n",
    "    for i in number:\n",
    "        near = abs(avg - i)\n",
    "        subtraction.append(near)\n",
    "    nearest = 0\n",
    "    for i in range(len(subtraction) - 1):\n",
    "        nearr = subtraction[i]\n",
    "        if nearr < subtraction[i + 1]:\n",
    "            nearest = nearr\n",
    "    print('average nearest number is:', number[subtraction.index(nearest)])\n",
    "\n",
    "avg_nearest()"
   ]
  },
  {
   "cell_type": "code",
   "execution_count": null,
   "id": "f012c446",
   "metadata": {},
   "outputs": [],
   "source": []
  },
  {
   "cell_type": "markdown",
   "id": "0a3c9061",
   "metadata": {},
   "source": [
    "## "
   ]
  },
  {
   "cell_type": "code",
   "execution_count": null,
   "id": "bab1015e",
   "metadata": {},
   "outputs": [],
   "source": []
  }
 ],
 "metadata": {
  "kernelspec": {
   "display_name": "Python 3 (ipykernel)",
   "language": "python",
   "name": "python3"
  },
  "language_info": {
   "codemirror_mode": {
    "name": "ipython",
    "version": 3
   },
   "file_extension": ".py",
   "mimetype": "text/x-python",
   "name": "python",
   "nbconvert_exporter": "python",
   "pygments_lexer": "ipython3",
   "version": "3.11.5"
  }
 },
 "nbformat": 4,
 "nbformat_minor": 5
}
