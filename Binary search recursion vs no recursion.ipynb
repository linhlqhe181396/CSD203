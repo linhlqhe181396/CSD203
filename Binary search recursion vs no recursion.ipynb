{
 "cells": [
  {
   "cell_type": "code",
   "execution_count": 2,
   "id": "a47b49a0",
   "metadata": {},
   "outputs": [
    {
     "name": "stdout",
     "output_type": "stream",
     "text": [
      "Time for recursive binary search: 0.0035417999897617847 sec\n",
      "Time for iterative binary search: 0.003541300000506453 sec\n"
     ]
    }
   ],
   "source": [
    "import timeit\n",
    "\n",
    "def binary_search_recursive(arr, target, low, high):\n",
    "    if low <= high:\n",
    "        mid = (low + high) // 2\n",
    "        if arr[mid] == target:\n",
    "            return mid\n",
    "        elif arr[mid] < target:\n",
    "            return binary_search_recursive(arr, target, mid + 1, high)\n",
    "        else:\n",
    "            return binary_search_recursive(arr, target, low, mid - 1)\n",
    "    else:\n",
    "        return -1  \n",
    "\n",
    "def binary_search_iterative(arr, target):\n",
    "    low, high = 0, len(arr) - 1\n",
    "    while low <= high:\n",
    "        mid = (low + high) // 2\n",
    "        if arr[mid] == target:\n",
    "            return mid\n",
    "        elif arr[mid] < target:\n",
    "            low = mid + 1\n",
    "        else:\n",
    "            high = mid - 1\n",
    "    return -1  \n",
    "\n",
    "sorted_array = list(range(1000000))  \n",
    "target_value = 123456\n",
    "time_recursive = timeit.timeit(lambda: binary_search_recursive(sorted_array, target_value, 0, len(sorted_array) - 1), number=1000)\n",
    "time_iterative = timeit.timeit(lambda: binary_search_iterative(sorted_array, target_value), number=1000)\n",
    "print(\"Time for recursive binary search:\", time_recursive,'sec')\n",
    "print(\"Time for iterative binary search:\", time_iterative,'sec')\n"
   ]
  },
  {
   "cell_type": "code",
   "execution_count": null,
   "id": "8836dc65",
   "metadata": {},
   "outputs": [],
   "source": []
  }
 ],
 "metadata": {
  "kernelspec": {
   "display_name": "Python 3 (ipykernel)",
   "language": "python",
   "name": "python3"
  },
  "language_info": {
   "codemirror_mode": {
    "name": "ipython",
    "version": 3
   },
   "file_extension": ".py",
   "mimetype": "text/x-python",
   "name": "python",
   "nbconvert_exporter": "python",
   "pygments_lexer": "ipython3",
   "version": "3.11.5"
  }
 },
 "nbformat": 4,
 "nbformat_minor": 5
}
